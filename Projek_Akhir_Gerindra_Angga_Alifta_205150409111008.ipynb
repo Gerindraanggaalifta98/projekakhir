{
  "nbformat": 4,
  "nbformat_minor": 0,
  "metadata": {
    "colab": {
      "name": "Projek_Akhir_Gerindra_Angga_Alifta_205150409111008.ipynb",
      "provenance": [],
      "authorship_tag": "ABX9TyO+sDfM7FPcgVipaPUt/zr0",
      "include_colab_link": true
    },
    "kernelspec": {
      "name": "python3",
      "display_name": "Python 3"
    }
  },
  "cells": [
    {
      "cell_type": "markdown",
      "metadata": {
        "id": "view-in-github",
        "colab_type": "text"
      },
      "source": [
        "<a href=\"https://colab.research.google.com/github/Gerindraanggaalifta98/projekakhir/blob/main/Projek_Akhir_Gerindra_Angga_Alifta_205150409111008.ipynb\" target=\"_parent\"><img src=\"https://colab.research.google.com/assets/colab-badge.svg\" alt=\"Open In Colab\"/></a>"
      ]
    },
    {
      "cell_type": "code",
      "metadata": {
        "id": "789oLu8UGz0F"
      },
      "source": [
        ""
      ],
      "execution_count": null,
      "outputs": []
    }
  ]
}